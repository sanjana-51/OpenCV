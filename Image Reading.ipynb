{
 "cells": [
  {
   "cell_type": "code",
   "execution_count": 8,
   "id": "b913dd48",
   "metadata": {},
   "outputs": [],
   "source": [
    "import cv2"
   ]
  },
  {
   "cell_type": "code",
   "execution_count": 10,
   "id": "90d0cef1",
   "metadata": {},
   "outputs": [],
   "source": [
    "import numpy as np"
   ]
  },
  {
   "cell_type": "code",
   "execution_count": 12,
   "id": "5c9cc5d2",
   "metadata": {},
   "outputs": [],
   "source": [
    "input=cv2.imread('./Image/Elephant.jpeg')\n",
    "cv2.imshow('ELEPHANT', input) # Title name\n",
    "cv2.waitKey()  # image will display until u presss any key\n",
    "cv2.destroyAllWindows()"
   ]
  },
  {
   "cell_type": "code",
   "execution_count": 15,
   "id": "0160df50",
   "metadata": {},
   "outputs": [
    {
     "name": "stdout",
     "output_type": "stream",
     "text": [
      "(184, 273, 3)\n"
     ]
    }
   ],
   "source": [
    "#h,w,channel  channel=3 (colourful rgb) if black & white then channel=1\n",
    "print(input.shape)"
   ]
  },
  {
   "cell_type": "code",
   "execution_count": 16,
   "id": "33443afc",
   "metadata": {},
   "outputs": [
    {
     "name": "stdout",
     "output_type": "stream",
     "text": [
      "Height of image 184 pixels\n",
      "Width of image 273 pixels\n"
     ]
    }
   ],
   "source": [
    "# Dimension of image\n",
    "print('Height of image',int(input.shape[0]),'pixels')\n",
    "print('Width of image',int(input.shape[1]),'pixels')\n"
   ]
  },
  {
   "cell_type": "markdown",
   "id": "89d5ca86",
   "metadata": {},
   "source": [
    "# Saving in diiferent format"
   ]
  },
  {
   "cell_type": "code",
   "execution_count": 17,
   "id": "0b398272",
   "metadata": {},
   "outputs": [
    {
     "data": {
      "text/plain": [
       "True"
      ]
     },
     "execution_count": 17,
     "metadata": {},
     "output_type": "execute_result"
    }
   ],
   "source": [
    "cv2.imwrite('output.jpg',input)\n",
    "cv2.imwrite('output.png',input)"
   ]
  },
  {
   "cell_type": "code",
   "execution_count": null,
   "id": "0d63c47a",
   "metadata": {},
   "outputs": [],
   "source": [
    " "
   ]
  }
 ],
 "metadata": {
  "kernelspec": {
   "display_name": "Python 3 (ipykernel)",
   "language": "python",
   "name": "python3"
  },
  "language_info": {
   "codemirror_mode": {
    "name": "ipython",
    "version": 3
   },
   "file_extension": ".py",
   "mimetype": "text/x-python",
   "name": "python",
   "nbconvert_exporter": "python",
   "pygments_lexer": "ipython3",
   "version": "3.9.12"
  }
 },
 "nbformat": 4,
 "nbformat_minor": 5
}
